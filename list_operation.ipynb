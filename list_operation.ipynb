{
 "cells": [
  {
   "cell_type": "code",
   "execution_count": 27,
   "id": "ec092a46-3579-48db-b27f-3d18d4fb1a8a",
   "metadata": {},
   "outputs": [
    {
     "name": "stdout",
     "output_type": "stream",
     "text": [
      "['apple', 'banana', 'grapes']\n"
     ]
    }
   ],
   "source": [
    "fruits=[\"apple\",\"banana\",\"grapes\"]\n",
    "print(fruits)"
   ]
  },
  {
   "cell_type": "code",
   "execution_count": 29,
   "id": "37147bdc-e879-4f97-b6dd-ca790f50e764",
   "metadata": {},
   "outputs": [
    {
     "name": "stdout",
     "output_type": "stream",
     "text": [
      "After adding at last:  ['apple', 'banana', 'grapes', 'orange']\n"
     ]
    }
   ],
   "source": [
    "fruits.append(\"orange\")\n",
    "print(\"After adding at last: \",fruits)"
   ]
  },
  {
   "cell_type": "code",
   "execution_count": 31,
   "id": "3658b16f-2d00-409d-840d-c9eee0363943",
   "metadata": {},
   "outputs": [
    {
     "name": "stdout",
     "output_type": "stream",
     "text": [
      "After adding at 1st position:  ['apple', 'kiwi', 'banana', 'grapes', 'orange']\n"
     ]
    }
   ],
   "source": [
    "fruits.insert(1,\"kiwi\")\n",
    "print(\"After adding at 1st position: \",fruits)"
   ]
  },
  {
   "cell_type": "code",
   "execution_count": 33,
   "id": "05d7995e-7d43-4ef5-bb91-6779ebbb2b36",
   "metadata": {},
   "outputs": [
    {
     "name": "stdout",
     "output_type": "stream",
     "text": [
      "After removing fruits:  ['apple', 'kiwi', 'banana', 'grapes']\n"
     ]
    }
   ],
   "source": [
    "fruits.remove(\"orange\")\n",
    "print(\"After removing fruits: \",fruits)"
   ]
  },
  {
   "cell_type": "code",
   "execution_count": 35,
   "id": "83e5d948-b774-4449-aa00-c9e397234aa4",
   "metadata": {},
   "outputs": [
    {
     "name": "stdout",
     "output_type": "stream",
     "text": [
      "element at 1st:  apple\n"
     ]
    }
   ],
   "source": [
    "print(\"element at 1st: \",fruits[0])"
   ]
  },
  {
   "cell_type": "code",
   "execution_count": 37,
   "id": "670fdff8-ed47-45a5-a712-0d588467b0bb",
   "metadata": {},
   "outputs": [
    {
     "name": "stdout",
     "output_type": "stream",
     "text": [
      "after modifying:  ['apple', 'blueberry', 'banana', 'grapes']\n"
     ]
    }
   ],
   "source": [
    "fruits[1]=\"blueberry\"\n",
    "print(\"after modifying: \",fruits)"
   ]
  },
  {
   "cell_type": "code",
   "execution_count": 39,
   "id": "2b1415b5-a0fd-461d-98ff-835eb31f29c0",
   "metadata": {},
   "outputs": [
    {
     "name": "stdout",
     "output_type": "stream",
     "text": [
      "['apple', 'blueberry', 'banana', 'grapes', 'cherry', 'mango']\n"
     ]
    }
   ],
   "source": [
    "more_fruits=[\"cherry\",\"mango\"]\n",
    "fruits.extend(more_fruits)\n",
    "print(fruits)"
   ]
  },
  {
   "cell_type": "code",
   "execution_count": null,
   "id": "e17aa4c2-e744-433a-ac1c-e4341ecba18e",
   "metadata": {},
   "outputs": [],
   "source": []
  }
 ],
 "metadata": {
  "kernelspec": {
   "display_name": "anaconda-panel-2023.05-py310",
   "language": "python",
   "name": "conda-env-anaconda-panel-2023.05-py310-py"
  },
  "language_info": {
   "codemirror_mode": {
    "name": "ipython",
    "version": 3
   },
   "file_extension": ".py",
   "mimetype": "text/x-python",
   "name": "python",
   "nbconvert_exporter": "python",
   "pygments_lexer": "ipython3",
   "version": "3.11.5"
  }
 },
 "nbformat": 4,
 "nbformat_minor": 5
}
