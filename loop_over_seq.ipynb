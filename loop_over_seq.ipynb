{
 "cells": [
  {
   "cell_type": "code",
   "execution_count": 1,
   "id": "8ea99403-8db2-408e-b7f0-75e50d965161",
   "metadata": {},
   "outputs": [],
   "source": [
    "name=\"swarnim\"\n",
    "vegetable=(\"carrot\",\"kale\",\"potato\")\n",
    "fruits=[\"mango\",\"banana\",\"grape\"]"
   ]
  },
  {
   "cell_type": "code",
   "execution_count": 5,
   "id": "95b35181-efc6-4f65-9c1b-8bdf6c569d2a",
   "metadata": {},
   "outputs": [
    {
     "name": "stdout",
     "output_type": "stream",
     "text": [
      "s\n",
      "w\n",
      "a\n",
      "r\n",
      "n\n",
      "i\n",
      "m\n"
     ]
    }
   ],
   "source": [
    "for i in name:\n",
    "    print(i)"
   ]
  },
  {
   "cell_type": "code",
   "execution_count": 7,
   "id": "c4deb789-8010-42f2-9487-0acd3c1c8dbc",
   "metadata": {},
   "outputs": [
    {
     "name": "stdout",
     "output_type": "stream",
     "text": [
      "carrot\n",
      "kale\n",
      "potato\n"
     ]
    }
   ],
   "source": [
    "for i in vegetable:\n",
    "    print(i)"
   ]
  },
  {
   "cell_type": "code",
   "execution_count": 9,
   "id": "7cb514c0-eb70-47a0-baa3-3446622e2e75",
   "metadata": {},
   "outputs": [
    {
     "name": "stdout",
     "output_type": "stream",
     "text": [
      "mango\n",
      "banana\n",
      "grape\n"
     ]
    }
   ],
   "source": [
    "for i in fruits:\n",
    "    print(i)"
   ]
  },
  {
   "cell_type": "code",
   "execution_count": null,
   "id": "3e5ffe62-5f08-46cd-a36e-c05be06c9776",
   "metadata": {},
   "outputs": [],
   "source": []
  }
 ],
 "metadata": {
  "kernelspec": {
   "display_name": "anaconda-panel-2023.05-py310",
   "language": "python",
   "name": "conda-env-anaconda-panel-2023.05-py310-py"
  },
  "language_info": {
   "codemirror_mode": {
    "name": "ipython",
    "version": 3
   },
   "file_extension": ".py",
   "mimetype": "text/x-python",
   "name": "python",
   "nbconvert_exporter": "python",
   "pygments_lexer": "ipython3",
   "version": "3.11.5"
  }
 },
 "nbformat": 4,
 "nbformat_minor": 5
}
