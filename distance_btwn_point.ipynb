{
 "cells": [
  {
   "cell_type": "code",
   "execution_count": 1,
   "id": "af804e0e-dd48-44f9-a497-9cd5d53f88c2",
   "metadata": {},
   "outputs": [
    {
     "name": "stdin",
     "output_type": "stream",
     "text": [
      "Enter value x1:  6\n",
      "Enter value x2:  4\n",
      "Enter value y1:  10\n",
      "Enter value y2:  12\n"
     ]
    },
    {
     "name": "stdout",
     "output_type": "stream",
     "text": [
      "2.8284271247461903\n"
     ]
    }
   ],
   "source": [
    "import math\n",
    "x1=float(input(\"Enter value x1: \"))\n",
    "x2=float(input(\"Enter value x2: \"))\n",
    "y1=float(input(\"Enter value y1: \"))\n",
    "y2=float(input(\"Enter value y2: \"))\n",
    "distance=math.sqrt((x1-x2)**2+(y1-y2)**2)\n",
    "print(distance)"
   ]
  }
 ],
 "metadata": {
  "kernelspec": {
   "display_name": "anaconda-panel-2023.05-py310",
   "language": "python",
   "name": "conda-env-anaconda-panel-2023.05-py310-py"
  },
  "language_info": {
   "codemirror_mode": {
    "name": "ipython",
    "version": 3
   },
   "file_extension": ".py",
   "mimetype": "text/x-python",
   "name": "python",
   "nbconvert_exporter": "python",
   "pygments_lexer": "ipython3",
   "version": "3.11.5"
  }
 },
 "nbformat": 4,
 "nbformat_minor": 5
}
