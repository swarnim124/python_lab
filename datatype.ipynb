{
 "cells": [
  {
   "cell_type": "code",
   "execution_count": 33,
   "id": "091a7ab1-11d1-4d93-a2d7-9ed38d5e0f1d",
   "metadata": {},
   "outputs": [],
   "source": [
    "year=2025\n",
    "name= \"swarnim kumar\"\n",
    "percentage=95.4\n",
    "subject= [\"c++\",\"python\",\"cloud\"]\n",
    "city=(\"jaipur\",\"delhi\",\"patna\")\n",
    "dictionary={\n",
    "    \"A\":\"apple\",\n",
    "    \"B\":\"ball\",\n",
    "    \"C\":\"cat\"\n",
    "}\n",
    "    "
   ]
  },
  {
   "cell_type": "code",
   "execution_count": 31,
   "id": "58f4a5ca-dcaa-4b98-a10e-8fbc3f7c5c34",
   "metadata": {},
   "outputs": [
    {
     "name": "stdout",
     "output_type": "stream",
     "text": [
      "<class 'int'>\n",
      "<class 'str'>\n",
      "<class 'float'>\n",
      "<class 'list'>\n",
      "<class 'tuple'>\n",
      "<class 'dict'>\n"
     ]
    }
   ],
   "source": [
    "print(type(year))\n",
    "print(type(name))\n",
    "print(type(percentage))\n",
    "print(type(subject))\n",
    "print(type(city))\n",
    "print(type(dictionary))"
   ]
  },
  {
   "cell_type": "code",
   "execution_count": null,
   "id": "468ab8ab-27b6-4e61-b08e-d1efbfd2e948",
   "metadata": {},
   "outputs": [],
   "source": []
  }
 ],
 "metadata": {
  "kernelspec": {
   "display_name": "anaconda-panel-2023.05-py310",
   "language": "python",
   "name": "conda-env-anaconda-panel-2023.05-py310-py"
  },
  "language_info": {
   "codemirror_mode": {
    "name": "ipython",
    "version": 3
   },
   "file_extension": ".py",
   "mimetype": "text/x-python",
   "name": "python",
   "nbconvert_exporter": "python",
   "pygments_lexer": "ipython3",
   "version": "3.11.5"
  }
 },
 "nbformat": 4,
 "nbformat_minor": 5
}
