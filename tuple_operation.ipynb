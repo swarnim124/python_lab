{
 "cells": [
  {
   "cell_type": "code",
   "execution_count": 6,
   "id": "5daa8499-2581-4137-9a8a-eb20675a3e48",
   "metadata": {},
   "outputs": [
    {
     "name": "stdout",
     "output_type": "stream",
     "text": [
      "('carrot', 'potato', 'bringel')\n"
     ]
    }
   ],
   "source": [
    "vegetable=(\"carrot\",\"potato\",\"bringel\")\n",
    "print(vegetable)"
   ]
  },
  {
   "cell_type": "code",
   "execution_count": 8,
   "id": "7c7dd679-bfd1-45c7-b95b-a858b228a07c",
   "metadata": {},
   "outputs": [
    {
     "name": "stdout",
     "output_type": "stream",
     "text": [
      "2nd vegetable:  potato\n"
     ]
    }
   ],
   "source": [
    "print(\"2nd vegetable: \",vegetable[1])"
   ]
  },
  {
   "cell_type": "code",
   "execution_count": 10,
   "id": "cc5f8439-69e9-43df-b807-56bb131f85c7",
   "metadata": {},
   "outputs": [
    {
     "name": "stdout",
     "output_type": "stream",
     "text": [
      "('carrot', 'potato', 'bringel', 'kale', 'spinach')\n"
     ]
    }
   ],
   "source": [
    "more_veg=(\"kale\",\"spinach\")\n",
    "all_vegetable=vegetable+more_veg\n",
    "print(all_vegetable)"
   ]
  },
  {
   "cell_type": "code",
   "execution_count": null,
   "id": "6928e423-0a20-44e2-bd9e-57f1e9fbf507",
   "metadata": {},
   "outputs": [],
   "source": [
    "print(\"Length of tuple: \",len(more_veg"
   ]
  }
 ],
 "metadata": {
  "kernelspec": {
   "display_name": "anaconda-panel-2023.05-py310",
   "language": "python",
   "name": "conda-env-anaconda-panel-2023.05-py310-py"
  },
  "language_info": {
   "codemirror_mode": {
    "name": "ipython",
    "version": 3
   },
   "file_extension": ".py",
   "mimetype": "text/x-python",
   "name": "python",
   "nbconvert_exporter": "python",
   "pygments_lexer": "ipython3",
   "version": "3.11.5"
  }
 },
 "nbformat": 4,
 "nbformat_minor": 5
}
