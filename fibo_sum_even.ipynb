{
 "cells": [
  {
   "cell_type": "code",
   "execution_count": 1,
   "id": "c5f045d9-5193-4c72-aba3-a64ea8fb2918",
   "metadata": {},
   "outputs": [
    {
     "name": "stdin",
     "output_type": "stream",
     "text": [
      "enter number:  5\n"
     ]
    }
   ],
   "source": [
    "num=int(input(\"enter number: \"))"
   ]
  },
  {
   "cell_type": "code",
   "execution_count": 4,
   "id": "6d891994-971c-4072-a9cc-b3ceaacfa240",
   "metadata": {},
   "outputs": [
    {
     "name": "stdout",
     "output_type": "stream",
     "text": [
      "even term is:  2\n",
      "2\n",
      "sum of even fibonacci is 2\n"
     ]
    }
   ],
   "source": [
    "def fib(num):\n",
    "    a,b=0,1\n",
    "    sum=0\n",
    "    while b<num:\n",
    "        if b%2==0:\n",
    "            sum=sum+b\n",
    "            print(\"even term is: \",b)\n",
    "            print(sum)\n",
    "        a,b=b,a+b\n",
    "    return sum\n",
    "print(\"sum of even fibonacci is\", fib(num))"
   ]
  }
 ],
 "metadata": {
  "kernelspec": {
   "display_name": "anaconda-panel-2023.05-py310",
   "language": "python",
   "name": "conda-env-anaconda-panel-2023.05-py310-py"
  },
  "language_info": {
   "codemirror_mode": {
    "name": "ipython",
    "version": 3
   },
   "file_extension": ".py",
   "mimetype": "text/x-python",
   "name": "python",
   "nbconvert_exporter": "python",
   "pygments_lexer": "ipython3",
   "version": "3.11.5"
  }
 },
 "nbformat": 4,
 "nbformat_minor": 5
}
